{
 "cells": [
  {
   "cell_type": "code",
   "execution_count": 2,
   "id": "1f9a7acc",
   "metadata": {},
   "outputs": [],
   "source": [
    "using Phylo, Plots, FASTX, MolecularEvolution, CodonMolecularEvolution"
   ]
  },
  {
   "cell_type": "code",
   "execution_count": 3,
   "id": "ad59e3d4",
   "metadata": {},
   "outputs": [
    {
     "name": "stdout",
     "output_type": "stream",
     "text": [
      "Step 1: Initialization. If exports = true, tree showing the assignment of branches to groups/colors will be exported to: output/Ace2_tagged_input_tree.svg.\n",
      "Step 2: Optimizing global codon model parameters.\n",
      "Optimized single α,β LL=-17461.80292552851 with α=1.688175953772318 and β=0.830522823141943.\n",
      "Step 3: Calculating grid of 12096-by-808 conditional likelihood values (the slowest step). Currently on:\n",
      "0.0% 4.0% 8.0% 12.0% 17.0% 21.0% 25.0% 29.0% 33.0% 37.0% 41.0% 45.0% 50.0% 54.0% 58.0% 62.0% 66.0% 70.0% 74.0% 79.0% 83.0% 87.0% 91.0% 95.0% 99.0% \n",
      "Step 4: Running Gibbs sampler to infer site categories.\n",
      "Step 5: Tabulating and plotting. Detected sites:\n",
      "Site 3 - P(ω1 > ω2):0.01; P(ω2 > ω1):0.9725; P(ω1 > 1):0.1395; P(ω2 > 1):0.9425\n",
      "Site 26 - P(ω1 > ω2):0.978; P(ω2 > ω1):0.0055; P(ω1 > 1):0.9425; P(ω2 > 1):0.1085\n",
      "Site 29 - P(ω1 > ω2):0.9775; P(ω2 > ω1):0.0045; P(ω1 > 1):0.996; P(ω2 > 1):0.186\n",
      "Site 36 - P(ω1 > ω2):0.9945; P(ω2 > ω1):0.001; P(ω1 > 1):0.9575; P(ω2 > 1):0.036\n",
      "Site 68 - P(ω1 > ω2):0.963; P(ω2 > ω1):0.011; P(ω1 > 1):0.581; P(ω2 > 1):0.033\n",
      "Site 69 - P(ω1 > ω2):0.2475; P(ω2 > ω1):0.4565; P(ω1 > 1):0.9685; P(ω2 > 1):0.9815\n",
      "Site 75 - P(ω1 > ω2):0.0085; P(ω2 > ω1):0.9805; P(ω1 > 1):0.0955; P(ω2 > 1):0.9195\n",
      "Site 89 - P(ω1 > ω2):0.9575; P(ω2 > ω1):0.014; P(ω1 > 1):0.97; P(ω2 > 1):0.214\n",
      "Site 93 - P(ω1 > ω2):0.978; P(ω2 > ω1):0.006; P(ω1 > 1):0.931; P(ω2 > 1):0.06\n",
      "Site 94 - P(ω1 > ω2):0.985; P(ω2 > ω1):0.005; P(ω1 > 1):0.988; P(ω2 > 1):0.1415\n",
      "Site 169 - P(ω1 > ω2):0.069; P(ω2 > ω1):0.8375; P(ω1 > 1):0.5625; P(ω2 > 1):0.9605\n",
      "Site 214 - P(ω1 > ω2):0.928; P(ω2 > ω1):0.0215; P(ω1 > 1):0.998; P(ω2 > 1):0.4055\n",
      "Site 215 - P(ω1 > ω2):0.9695; P(ω2 > ω1):0.01; P(ω1 > 1):0.9145; P(ω2 > 1):0.0935\n",
      "Site 218 - P(ω1 > ω2):0.982; P(ω2 > ω1):0.004; P(ω1 > 1):0.976; P(ω2 > 1):0.096\n",
      "Site 220 - P(ω1 > ω2):0.005; P(ω2 > ω1):0.9775; P(ω1 > 1):0.269; P(ω2 > 1):0.9865\n",
      "Site 251 - P(ω1 > ω2):0.0105; P(ω2 > ω1):0.966; P(ω1 > 1):0.062; P(ω2 > 1):0.747\n",
      "Site 282 - P(ω1 > ω2):0.9665; P(ω2 > ω1):0.0095; P(ω1 > 1):0.9285; P(ω2 > 1):0.0905\n",
      "Site 288 - P(ω1 > ω2):0.9365; P(ω2 > ω1):0.0225; P(ω1 > 1):0.961; P(ω2 > 1):0.1715\n",
      "Site 361 - P(ω1 > ω2):0.008; P(ω2 > ω1):0.9665; P(ω1 > 1):0.5605; P(ω2 > 1):0.991\n",
      "Site 366 - P(ω1 > ω2):0.0165; P(ω2 > ω1):0.965; P(ω1 > 1):0.1015; P(ω2 > 1):0.8875\n",
      "Site 389 - P(ω1 > ω2):0.985; P(ω2 > ω1):0.003; P(ω1 > 1):0.9625; P(ω2 > 1):0.0695\n",
      "Site 422 - P(ω1 > ω2):0.977; P(ω2 > ω1):0.008; P(ω1 > 1):0.915; P(ω2 > 1):0.079\n",
      "Site 431 - P(ω1 > ω2):0.9875; P(ω2 > ω1):0.0035; P(ω1 > 1):0.995; P(ω2 > 1):0.1055\n",
      "Site 557 - P(ω1 > ω2):0.793; P(ω2 > ω1):0.0815; P(ω1 > 1):0.983; P(ω2 > 1):0.6525\n",
      "Site 570 - P(ω1 > ω2):0.984; P(ω2 > ω1):0.003; P(ω1 > 1):0.962; P(ω2 > 1):0.101\n",
      "Site 574 - P(ω1 > ω2):0.974; P(ω2 > ω1):0.0045; P(ω1 > 1):0.9455; P(ω2 > 1):0.107\n",
      "Site 580 - P(ω1 > ω2):0.959; P(ω2 > ω1):0.0155; P(ω1 > 1):0.64; P(ω2 > 1):0.0445\n",
      "Site 609 - P(ω1 > ω2):0.971; P(ω2 > ω1):0.004; P(ω1 > 1):0.961; P(ω2 > 1):0.1235\n",
      "Site 661 - P(ω1 > ω2):0.6035; P(ω2 > ω1):0.1585; P(ω1 > 1):0.9865; P(ω2 > 1):0.943\n",
      "Site 697 - P(ω1 > ω2):0.9575; P(ω2 > ω1):0.019; P(ω1 > 1):0.953; P(ω2 > 1):0.1505\n",
      "Site 709 - P(ω1 > ω2):0.0015; P(ω2 > ω1):0.988; P(ω1 > 1):0.135; P(ω2 > 1):0.8725\n",
      "Site 776 - P(ω1 > ω2):0.0165; P(ω2 > ω1):0.9645; P(ω1 > 1):0.1275; P(ω2 > 1):0.914\n",
      "Site 787 - P(ω1 > ω2):0.018; P(ω2 > ω1):0.9465; P(ω1 > 1):0.404; P(ω2 > 1):0.954\n",
      "Site 791 - P(ω1 > ω2):0.013; P(ω2 > ω1):0.968; P(ω1 > 1):0.1195; P(ω2 > 1):0.905\n",
      "\n",
      "If exports = true, writing results for all sites to CSV: output/Ace2_posteriors.csv\n",
      "Plotting alpha and omega distributions. If exports = true, saved as output/Ace2_violin_*.pdf\n"
     ]
    }
   ],
   "source": [
    "analysis_name = \"output/Ace2\"\n",
    "seqnames,seqs = read_fasta(\"../test/data/Ace2_tiny/Ace2_tiny_tagged.fasta\");\n",
    "treestring, tags, tag_colors = import_colored_figtree_nexus_as_tagged_tree(\"../test/data/Ace2_tiny/Ace2_tiny_tagged.nex\")\n",
    "df,results = difFUBAR(seqnames, seqs, treestring, tags, analysis_name);"
   ]
  },
  {
   "cell_type": "code",
   "execution_count": 3,
   "id": "57613aa5",
   "metadata": {},
   "outputs": [
    {
     "data": {
      "text/plain": [
       "(FelNode\n",
       "nodeindex: 1763095780872\n",
       "Root: true\n",
       "Leaf: false\n",
       "Defined fields:\n",
       "true\t parent\n",
       "true\t children\n",
       "true\t branchlength\n",
       "true\t name\n",
       "true\t nodeindex\n",
       "true\t seqindex\n",
       "false\t state_path\n",
       "false\t branch_params\n",
       "false\t node_data\n",
       "true\t message\n",
       "true\t parent_message\n",
       "true\t child_messages\n",
       ", -17461.80292552851, 1.688175953772318, 0.830522823141943, [-3.7018768812131664 0.9881548146032798 2.216254078366261 0.49746798824362554; 0.9881548146032798 -4.5115707362647175 0.8820577752830622 2.641358146378376; 2.216254078366261 0.8820577752830622 -3.607584349715228 0.5092724960659045; 0.49746798824362554 2.641358146378376 0.5092724960659045 -3.648098630687906], [0.3037803780378038 0.1911941194119412 0.3028802880288029 0.1979072907290729; 0.3571107110711071 0.20424542454245426 0.15447794779477947 0.27992799279927993; 0.2496999699969997 0.2142964296429643 0.23923642364236425 0.2925292529252925], [0.02866025516940132, 0.02459668039020113, 0.027459262199701268, 0.033576147540001544, 0.016391908176072213, 0.01406779262812806, 0.01570501385628787, 0.019203497112250417, 0.012397772636291118, 0.010639962878306918  …  0.009164906382547132, 0.010231525693781617, 0.012510722748314251, 0.006931738778867358, 0.007738460215329871, 0.009462296547981343, 0.014636107195188522, 0.01256093669469919, 0.014022788795149833, 0.017146535915060147])"
      ]
     },
     "metadata": {},
     "output_type": "display_data"
    }
   ],
   "source": [
    "binarize=false\n",
    "exports=true\n",
    "verbosity=1\n",
    "plot_collection = NamedTuple[]\n",
    "tree, tags, tag_colors, analysis_name = CodonMolecularEvolution.difFUBAR_init(analysis_name, treestring, tags, tag_colors=tag_colors, exports=exports, verbosity=verbosity, disable_binarize=!binarize, plot_collection = plot_collection)\n",
    "leaf_name_transform = CodonMolecularEvolution.generate_tag_stripper(tags)\n",
    "code = MolecularEvolution.universal_code\n",
    "tree, LL, alpha, beta, GTRmat, F3x4_freqs, eq_freqs = CodonMolecularEvolution.difFUBAR_global_fit_2steps(seqnames, seqs, tree, leaf_name_transform, code; verbosity=1, optimize_branch_lengths=false)"
   ]
  },
  {
   "cell_type": "code",
   "execution_count": 4,
   "id": "806271a9",
   "metadata": {},
   "outputs": [],
   "source": [
    "version=nothing\n",
    "t=0\n",
    "con_lik_matrix, _, codon_param_vec, alphagrid, omegagrid, _, shallow_tree = CodonMolecularEvolution.difFUBAR_grid(tree,\n",
    "            tags,\n",
    "            GTRmat,\n",
    "            F3x4_freqs,\n",
    "            code,\n",
    "            verbosity=verbosity,\n",
    "            foreground_grid=2,\n",
    "            background_grid=2,\n",
    "            version=version,\n",
    "            t=t)\n",
    "println(size(codon_param_vec))"
   ]
  },
  {
   "cell_type": "code",
   "execution_count": 5,
   "id": "e66bd60d",
   "metadata": {},
   "outputs": [],
   "source": [
    "println(typeof(codon_param_vec))"
   ]
  },
  {
   "cell_type": "code",
   "execution_count": 6,
   "id": "82f3a262",
   "metadata": {},
   "outputs": [
    {
     "ename": "LoadError",
     "evalue": "LoadError: SystemError: opening file \"test/data/Ace2_tiny/Ace2_tiny_tagged.fasta\": No such file or directory\nin expression starting at c:\\Users\\toven\\Documents\\tove-code\\CodonMolecularEvolution.jl-1\\src\\difFUBAR\\skbDifFUBAR.jl:162",
     "output_type": "error",
     "traceback": [
      "LoadError: SystemError: opening file \"test/data/Ace2_tiny/Ace2_tiny_tagged.fasta\": No such file or directory\n",
      "in expression starting at c:\\Users\\toven\\Documents\\tove-code\\CodonMolecularEvolution.jl-1\\src\\difFUBAR\\skbDifFUBAR.jl:162\n",
      "\n",
      "Stacktrace:\n",
      " [1] systemerror(p::String, errno::Int32; extrainfo::Nothing)\n",
      "   @ Base .\\error.jl:176\n",
      " [2] systemerror\n",
      "   @ .\\error.jl:175 [inlined]\n",
      " [3] open(fname::String; lock::Bool, read::Bool, write::Nothing, create::Nothing, truncate::Nothing, append::Nothing)\n",
      "   @ Base .\\iostream.jl:295\n",
      " [4] open\n",
      "   @ .\\iostream.jl:277 [inlined]\n",
      " [5] open(fname::String, mode::String; lock::Bool)\n",
      "   @ Base .\\iostream.jl:358\n",
      " [6] open\n",
      "   @ .\\iostream.jl:357 [inlined]\n",
      " [7] read_fasta(filepath::String)\n",
      "   @ MolecularEvolution C:\\Users\\toven\\.julia\\packages\\MolecularEvolution\\rRKnS\\src\\utils\\fasta_io.jl:10\n",
      " [8] top-level scope\n",
      "   @ c:\\Users\\toven\\Documents\\tove-code\\CodonMolecularEvolution.jl-1\\src\\difFUBAR\\skbDifFUBAR.jl:162"
     ]
    }
   ],
   "source": [
    "include(\"../src/difFUBAR/skbDifFUBAR.jl\")\n",
    "results = skbdifFUBAR(seqnames, seqs, treestring, tags,\"output/Ace2\", tag_colors)\n"
   ]
  }
 ],
 "metadata": {
  "kernelspec": {
   "display_name": "Julia 1.11.5",
   "language": "julia",
   "name": "julia-1.11"
  },
  "language_info": {
   "file_extension": ".jl",
   "mimetype": "application/julia",
   "name": "julia",
   "version": "1.11.5"
  }
 },
 "nbformat": 4,
 "nbformat_minor": 5
}
